{
  "nbformat": 4,
  "nbformat_minor": 0,
  "metadata": {
    "colab": {
      "provenance": [],
      "authorship_tag": "ABX9TyNN78VCk82wX2G5nPUA1gBE",
      "include_colab_link": true
    },
    "kernelspec": {
      "name": "ir",
      "display_name": "R"
    },
    "language_info": {
      "name": "R"
    }
  },
  "cells": [
    {
      "cell_type": "markdown",
      "metadata": {
        "id": "view-in-github",
        "colab_type": "text"
      },
      "source": [
        "<a href=\"https://colab.research.google.com/github/SarochaKamol/Data-analyze_practice_testing/blob/R/%5BR%20language%5DRock-Paper-Scissors_game.ipynb.ipynb\" target=\"_parent\"><img src=\"https://colab.research.google.com/assets/colab-badge.svg\" alt=\"Open In Colab\"/></a>"
      ]
    },
    {
      "cell_type": "markdown",
      "source": [
        "## **My_Game**"
      ],
      "metadata": {
        "id": "0rsiTBc2-Do2"
      }
    },
    {
      "cell_type": "code",
      "source": [
        "##create function\n",
        "my_game <- function(){\n",
        "      user_score = 0\n",
        "      system_score = 0\n",
        "      round = 1\n",
        "      system_choice = c(\"Rock\",\"Paper\",\"Scissor\")\n",
        "\n",
        "      while (round<=5) {\n",
        "        flush.console()\n",
        "        user_choose <-  readline(paste(\"Round:\",round,\"Please choose your choice (Rock press 1 || Paper press 2 || Scissor press 3)\"))\n",
        "        system_choose <- sample(system_choice,1)\n",
        "        #change user choose choice\n",
        "        if (user_choose==1) {\n",
        "          user_choose <- \"Rock\"\n",
        "        }\n",
        "        if (user_choose==2) {\n",
        "          user_choose <- \"Paper\"\n",
        "        }\n",
        "        if (user_choose==3) {\n",
        "          user_choose <- \"Scissor\"\n",
        "        }\n",
        "\n",
        "      #Win&Lose condition\n",
        "        if (user_choose == system_choose ) {\n",
        "           print(paste(user_name,\"choose:\",user_choose, \"and System choose:\",system_choose ))\n",
        "           print(\"The same choice! Draw !!\")\n",
        "           round <- round+1\n",
        "        }\n",
        "       else if (user_choose == \"Rock\" & system_choose == \"Paper\") {\n",
        "           print(paste(user_name,\"choose: Rock and System choose:\",system_choose ))\n",
        "           print(\"This round System Win !!\")\n",
        "           system_score <- system_score +1\n",
        "           round <- round+1\n",
        "        }\n",
        "       else if (user_choose == \"Rock\" & system_choose == \"Scissor\") {\n",
        "            print(paste(user_name,\"choose: Rock and System choose:\",system_choose ))\n",
        "           print(paste(\"This round \",user_name, \"Win !!\"))\n",
        "           user_score <- user_score+1\n",
        "           round <- round+1\n",
        "        }\n",
        "       else if (user_choose == \"Paper\" & system_choose == \"Rock\") {\n",
        "             print(paste(user_name,\"choose: Paper and System choose:\",system_choose ))\n",
        "           print(paste(\"This round \",user_name, \"Win !!\"))\n",
        "           user_score <- user_score+1\n",
        "           round <- round+1\n",
        "        }\n",
        "       else if (user_choose == \"Paper\" & system_choose == \"Scissor\") {\n",
        "           print(paste(user_name,\"choose: Paper and System choose:\",system_choose ))\n",
        "           print(\"This round System Win !!\")\n",
        "           system_score <- system_score +1\n",
        "           round <- round+1\n",
        "        }\n",
        "       else if (user_choose == \"Scissor\" & system_choose == \"Rock\") {\n",
        "           print(paste(user_name,\"choose: Scissor  and System choose:\",system_choose ))\n",
        "           print(\"This round System Win !!\")\n",
        "           system_score <- system_score +1\n",
        "           round <- round+1\n",
        "        }\n",
        "       else if (user_choose == \"Scissor\" & system_choose == \"Paper\") {\n",
        "           print(paste(user_name,\"choose: Scissor and System choose:\",system_choose ))\n",
        "           print(paste(\"This round \",user_name, \"Win !!\"))\n",
        "           user_score <- user_score+1\n",
        "           round <- round+1\n",
        "        }\n",
        "        else {\n",
        "          print (\"error please enter the choice number 1-3\")\n",
        "        }\n",
        "      }\n",
        "      #Summary score\n",
        "      print(\"GAME FINISH!!!!!!!!!\")\n",
        "      print(\"-----Total score-----\")\n",
        "      print(paste(user_name,\" 's score is:\",user_score))\n",
        "      print(paste(\"System 's score is:\",system_score))\n",
        "      if(system_score<user_score){\n",
        "        print(toupper(paste(user_name,\"is winner !!!!!!!!!!\")))\n",
        "      }\n",
        "      else if(system_score>user_score){\n",
        "        print(paste(toupper(\"system is winner !!!!!!!!!!\")))\n",
        "      }\n",
        "      else {\n",
        "        print(toupper(\"DRAWWWWWW!!!\"))\n",
        "      }\n",
        "}\n",
        "\n",
        "## Welcome massage\n",
        "    user_name <- readline(\"Please enter your name: \")\n",
        "    print (paste (\"Hello!\" ,user_name, \"Welcome to Rock Paper Scissor Games\"))\n",
        "    print ( toupper(\"Rules: we will play the game for 5 times, after that we will count the score point to find the winner!\"))\n",
        "\n",
        "## start function\n",
        "while (TRUE) {\n",
        "        flush.console()\n",
        "        user_choose <- readline (\"Are you ready to the game? (Y|N):\")\n",
        "        if(user_choose == \"Y\" | user_choose == \"y\"){\n",
        "          print(paste(\"Good luck\", user_name))\n",
        "          my_game ()\n",
        "        }\n",
        "        else if(user_choose == \"N\" | user_choose == \"n\"){\n",
        "        print(paste(\"Exit the game, See you again\", user_name))\n",
        "           break\n",
        "        }\n",
        "        else {\n",
        "          print(\"error code please try again\")\n",
        "        }\n",
        "}"
      ],
      "metadata": {
        "colab": {
          "base_uri": "https://localhost:8080/"
        },
        "id": "nK64nneHFy83",
        "outputId": "b2570870-2d59-48e8-c245-46facd711292"
      },
      "execution_count": 1,
      "outputs": [
        {
          "output_type": "stream",
          "name": "stdout",
          "text": [
            "Please enter your name: uy\n",
            "[1] \"Hello! uy Welcome to Rock Paper Scissor Games\"\n",
            "[1] \"RULES: WE WILL PLAY THE GAME FOR 5 TIMES, AFTER THAT WE WILL COUNT THE SCORE POINT TO FIND THE WINNER!\"\n",
            "Are you ready to the game? (Y|N):y\n",
            "[1] \"Good luck uy\"\n",
            "Round: 1 Please choose your choice (Rock press 1 || Paper press 2 || Scissor press 3)3\n",
            "[1] \"uy choose: Scissor and System choose: Scissor\"\n",
            "[1] \"The same choice! Draw !!\"\n",
            "Round: 2 Please choose your choice (Rock press 1 || Paper press 2 || Scissor press 3)1\n",
            "[1] \"uy choose: Rock and System choose: Scissor\"\n",
            "[1] \"This round  uy Win !!\"\n",
            "Round: 3 Please choose your choice (Rock press 1 || Paper press 2 || Scissor press 3)5\n",
            "[1] \"error please enter the choice number 1-3\"\n",
            "Round: 3 Please choose your choice (Rock press 1 || Paper press 2 || Scissor press 3)1\n",
            "[1] \"uy choose: Rock and System choose: Paper\"\n",
            "[1] \"This round System Win !!\"\n",
            "Round: 4 Please choose your choice (Rock press 1 || Paper press 2 || Scissor press 3)2\n",
            "[1] \"uy choose: Paper and System choose: Paper\"\n",
            "[1] \"The same choice! Draw !!\"\n",
            "Round: 5 Please choose your choice (Rock press 1 || Paper press 2 || Scissor press 3)1\n",
            "[1] \"uy choose: Rock and System choose: Rock\"\n",
            "[1] \"The same choice! Draw !!\"\n",
            "[1] \"GAME FINISH!!!!!!!!!\"\n",
            "[1] \"-----Total score-----\"\n",
            "[1] \"uy  's score is: 1\"\n",
            "[1] \"System 's score is: 1\"\n",
            "[1] \"DRAWWWWWW!!!\"\n",
            "Are you ready to the game? (Y|N):n\n",
            "[1] \"Exit the game, See you again uy\"\n"
          ]
        }
      ]
    },
    {
      "cell_type": "markdown",
      "source": [
        "## **ORDER PIZZA**"
      ],
      "metadata": {
        "id": "1U_k4SD2yRWU"
      }
    },
    {
      "cell_type": "code",
      "source": [],
      "metadata": {
        "id": "JwXqbzADyUpU"
      },
      "execution_count": null,
      "outputs": []
    }
  ]
}